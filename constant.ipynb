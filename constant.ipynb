{
 "cells": [
  {
   "cell_type": "code",
   "execution_count": 31,
   "id": "030e96a3",
   "metadata": {},
   "outputs": [],
   "source": [
    "from dataset import StarCraftMotionDataset, pad_collate_fn\n",
    "from torch.utils.data import DataLoader, Dataset\n",
    "import torch\n",
    "import torch_scatter\n",
    "import torch.nn as nn\n",
    "\n",
    "criterion = nn.MSELoss(reduction='sum')\n",
    "\n",
    "batch_size = 4\n",
    "\n",
    "test_dataset = StarCraftMotionDataset(\"/local/scratch/a/bai116/datasets/StarCraftMotion_v0.2/processed\", train=False)\n",
    "test_loader = DataLoader(test_dataset, batch_size=batch_size, shuffle=False, collate_fn=pad_collate_fn)"
   ]
  },
  {
   "cell_type": "code",
   "execution_count": 41,
   "id": "ea220ab7",
   "metadata": {},
   "outputs": [
    {
     "name": "stdout",
     "output_type": "stream",
     "text": [
      "2.179962013295347\n",
      "0.43302732932362564\n"
     ]
    }
   ],
   "source": [
    "test_loss = 0\n",
    "test_loss_vel = 0\n",
    "test_data = 0\n",
    "count = 0\n",
    "criterion_con = nn.MSELoss(reduction='sum')\\\n",
    "\n",
    "for i, data in enumerate(test_loader):\n",
    "    if i > 100:\n",
    "        break\n",
    "    data = torch.swapaxes(data, 1, 2)\n",
    "    \n",
    "    y = data[:,1:,:,2:6] - data[:,:-1,:,2:6]\n",
    "    y_pred_pos = torch.zeros_like(y)\n",
    "    y_pred_vel = torch.cat([torch.zeros(y.shape[0], 1, y.shape[2], y.shape[3]),y[:,1:,:,:]], dim=1)\n",
    "    # y_pred_super = y_pred_vel * mask + y_pred_pos * (torch.logical_not(mask))\n",
    "#     print(data[3,   0, 278,   2])\n",
    "#     print(data[3,   1, 278,   2])\n",
    "#     print(data[3,   2, 278,   2])\n",
    "#     print(data[3,   3, 278,   2])\n",
    "    \n",
    "#     print(data[3,   0, 278,   3])\n",
    "#     print(data[3,   1, 278,   3])\n",
    "#     print(data[3,   2, 278,   3])\n",
    "#     print(data[3,   3, 278,   3])\n",
    "#    print(torch.nonzero(mask))\n",
    "#     print(\"-------\")\n",
    "    # Batch*(T-1)*N*A\n",
    "    unit_count = torch.nonzero(data[:,0,:,0] != 0).shape[0]\n",
    "    test_loss += criterion_con(y, y_pred_pos).item()\n",
    "    test_loss_vel += criterion_con(y, y_pred_vel).item()\n",
    "    test_data += unit_count\n",
    "#     l_p = ((y_pred_pos-y).norm(dim=(2,3)) ** 2).sum()\n",
    "#     l_v = ((y_pred_vel-y).norm(dim=(2,3)) ** 2).sum()\n",
    "    # l_s = ((y_pred_super-y).norm(dim=(2,3)) ** 2).sum() \n",
    "\n",
    "print(test_loss/test_data)\n",
    "print(test_loss_vel/test_data)"
   ]
  },
  {
   "cell_type": "code",
   "execution_count": 38,
   "id": "e2ca5c8c",
   "metadata": {},
   "outputs": [
    {
     "name": "stdout",
     "output_type": "stream",
     "text": [
      "94770\n"
     ]
    }
   ],
   "source": [
    "print(test_data)"
   ]
  },
  {
   "cell_type": "code",
   "execution_count": 21,
   "id": "14c1713c",
   "metadata": {},
   "outputs": [
    {
     "name": "stdout",
     "output_type": "stream",
     "text": [
      "tensor([128., 130., 125.])\n"
     ]
    }
   ],
   "source": [
    "print(y_pred_vel[10,:,273,0]*255)"
   ]
  },
  {
   "cell_type": "code",
   "execution_count": 4,
   "id": "591dc02d",
   "metadata": {},
   "outputs": [
    {
     "name": "stdout",
     "output_type": "stream",
     "text": [
      "torch.Size([16, 6, 905, 13])\n"
     ]
    }
   ],
   "source": [
    "print(data.shape)"
   ]
  },
  {
   "cell_type": "code",
   "execution_count": 11,
   "id": "9f9315b9",
   "metadata": {},
   "outputs": [],
   "source": [
    "mask_indices = torch.abs(data[0,1:,:,2] - data[0,:-1,:,2]) + torch.abs(data[0,1:,:,3] - data[0,:-1,:,3]) > 20"
   ]
  },
  {
   "cell_type": "code",
   "execution_count": 12,
   "id": "4c9555f5",
   "metadata": {},
   "outputs": [
    {
     "name": "stdout",
     "output_type": "stream",
     "text": [
      "torch.Size([5, 905])\n"
     ]
    }
   ],
   "source": [
    "print(mask_indices.shape)"
   ]
  },
  {
   "cell_type": "code",
   "execution_count": null,
   "id": "05a24f85",
   "metadata": {},
   "outputs": [],
   "source": []
  }
 ],
 "metadata": {
  "kernelspec": {
   "display_name": "Python 3 (ipykernel)",
   "language": "python",
   "name": "python3"
  },
  "language_info": {
   "codemirror_mode": {
    "name": "ipython",
    "version": 3
   },
   "file_extension": ".py",
   "mimetype": "text/x-python",
   "name": "python",
   "nbconvert_exporter": "python",
   "pygments_lexer": "ipython3",
   "version": "3.8.18"
  }
 },
 "nbformat": 4,
 "nbformat_minor": 5
}
