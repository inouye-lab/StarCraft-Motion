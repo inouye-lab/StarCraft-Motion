{
 "cells": [
  {
   "cell_type": "code",
   "execution_count": 1,
   "id": "030e96a3",
   "metadata": {},
   "outputs": [],
   "source": [
    "from dataset import StarCraftMotionDataset, pad_collate_fn\n",
    "from torch.utils.data import DataLoader, Dataset\n",
    "import torch\n",
    "import torch_scatter\n",
    "import torch.nn as nn\n",
    "\n",
    "criterion = nn.MSELoss(reduction='sum')\n",
    "\n",
    "batch_size = 16\n",
    "\n",
    "test_dataset = StarCraftMotionDataset(\"/local/scratch/a/bai116/datasets/StarCraftMotion_v0.2/processed\", train=False)\n",
    "test_loader = DataLoader(test_dataset, batch_size=batch_size, shuffle=False, collate_fn=pad_collate_fn)"
   ]
  },
  {
   "cell_type": "code",
   "execution_count": 2,
   "id": "ea220ab7",
   "metadata": {},
   "outputs": [
    {
     "name": "stdout",
     "output_type": "stream",
     "text": [
      "position  velocity   super\n",
      "27741\n"
     ]
    }
   ],
   "source": [
    "col = torch.tensor([])\n",
    "\n",
    "print(r\"position  velocity   super\")\n",
    "print(len(test_loader))\n",
    "for i, data in enumerate(test_loader):\n",
    "    if i > 1000:\n",
    "        break\n",
    "    mask = torch.ones(data.shape, dtype=torch.bool)\n",
    "    \n",
    "    diff = torch.abs(data[:,:,1:,2] - data[:,:,:-1,2] + data[:,:,1:,3] - data[:,:,:-1,3])\n",
    "    small_diff = torch.nonzero(diff < 10)\n",
    "    \n",
    "    mask[small_diff[:,0],small_diff[:,1]] = False\n",
    "    "
   ]
  },
  {
   "cell_type": "code",
   "execution_count": 17,
   "id": "e2ca5c8c",
   "metadata": {},
   "outputs": [
    {
     "data": {
      "text/plain": [
       "tensor([  0,   0,  41,   0,   1,   0,   0,   0,   0,   0,   0,   1,   0,   0,\n",
       "          0,   0,   0,   0,   0, 107,   0,   0,   0,   0,   0,   0,   0,   0,\n",
       "          0,   0,   0,   0,   0,   0,   0,  88,   0,   0,   0,   0,   0,   0,\n",
       "          0,   0,   0,   4,   0,   0,   0,   0,   0,   0,   0,   8,   0,   0,\n",
       "          0,   2,   0,   0,   0,   0,   0,   0,   1,   0,   0,   0,   2,   4,\n",
       "          0,   0,   0,  15, 168,   0,   0,   0,   0,   0,   0,   0,   0,   0,\n",
       "          0,   1,   0,   0,   0,   0,   0,   4,   0,   0,   0,   0,   0,   0,\n",
       "          0,   0,   0,   0,   0,   0,   6,   0,   2,   0,   0,   0,   0,   0,\n",
       "          0,   0,   0,   0,   0,   0,   0,   0,   0,   0,   0,   0,   0,   0,\n",
       "          0,   0,   0,   0,   0,   0,   0,   8,   0,   0,   0,   0,   0,   0,\n",
       "          0,   0,   0,   0,   0,   0,   1,   0,   0,   0,   0,   0,   0,   0,\n",
       "          0,   0,   0,   0,   0,   0,   3,   0,   0,   0,   0,   9,   0,   0,\n",
       "          0,   0,   0,   0,   0,   0,   0,   0,   0,   0,   0,   0,  17])"
      ]
     },
     "execution_count": 17,
     "metadata": {},
     "output_type": "execute_result"
    }
   ],
   "source": [
    "col.to(int).bincount()  [20,36,75]"
   ]
  },
  {
   "cell_type": "code",
   "execution_count": 108,
   "id": "14c1713c",
   "metadata": {},
   "outputs": [
    {
     "name": "stdout",
     "output_type": "stream",
     "text": [
      "torch.Size([1334, 6, 13])\n"
     ]
    }
   ],
   "source": [
    "print(test_dataset[37].shape)"
   ]
  },
  {
   "cell_type": "code",
   "execution_count": 63,
   "id": "0853c52f",
   "metadata": {},
   "outputs": [
    {
     "name": "stdout",
     "output_type": "stream",
     "text": [
      "tensor([[180.,   2., 213., 210., 169.,   2., 101., 208., 255.,   1.,   1., 211.,\n",
      "         206.],\n",
      "        [180.,   2., 213., 210., 169.,   2., 101., 208., 255.,   1.,   1., 211.,\n",
      "         206.],\n",
      "        [180.,   2., 213., 210., 169.,   2., 101., 208., 255.,   1.,   1., 211.,\n",
      "         206.],\n",
      "        [180.,   2., 213., 210., 169.,   2., 101., 208., 255.,   1.,   1., 211.,\n",
      "         206.],\n",
      "        [180.,   2., 240., 104., 127.,   2., 136., 255., 255.,   1.,   1., 211.,\n",
      "         206.],\n",
      "        [180.,   2., 240., 104., 127.,   2., 136., 255., 255.,   1.,   1., 211.,\n",
      "         206.]])\n"
     ]
    }
   ],
   "source": [
    "print(data[5,:,59,:])"
   ]
  },
  {
   "cell_type": "code",
   "execution_count": 73,
   "id": "c1c2f49f",
   "metadata": {},
   "outputs": [
    {
     "name": "stdout",
     "output_type": "stream",
     "text": [
      "tensor([[ 19.,   2.,  37., 178., 185.,   3.,  77.,  95., 255.,   0.,   0.,   0.,\n",
      "           0.],\n",
      "        [ 19.,   2.,  37., 178., 185.,   3.,  77.,  95., 255.,   0.,   0.,   0.,\n",
      "           0.],\n",
      "        [ 19.,   2.,  47., 120., 186.,   3., 137.,  95., 255.,   0.,   0.,   0.,\n",
      "           0.],\n",
      "        [ 19.,   2.,  48., 117., 192.,   3., 137.,  95., 255.,   0.,   0.,   0.,\n",
      "           0.],\n",
      "        [ 19.,   2.,  48., 114., 196.,   3., 111.,  95., 255.,   0.,   0.,   0.,\n",
      "           0.],\n",
      "        [ 19.,   2.,  46., 112., 197.,   3.,  82.,  95., 255.,   0.,   0.,   0.,\n",
      "           0.]])\n"
     ]
    }
   ],
   "source": [
    "print(data[7,:,132,:])"
   ]
  },
  {
   "cell_type": "code",
   "execution_count": 23,
   "id": "ee4fe08b",
   "metadata": {},
   "outputs": [
    {
     "name": "stdout",
     "output_type": "stream",
     "text": [
      "torch.Size([6])\n",
      "tensor([1, 2, 1])\n",
      "torch.Size([6])\n",
      "torch.Size([4, 4, 8])\n"
     ]
    }
   ],
   "source": [
    "import torch\n",
    "\n",
    "# Example tensor with shape (num_agent, time_frame, attributes)\n",
    "data = torch.randn(6, 4, 8)  # Example dimensions: time_frame=10, num_agent=20, attributes=4\n",
    "\n",
    "mask = data[:,0,7] != 0\n",
    "print(mask.shape)\n",
    "# Mask tensor with shape (N, 3), where each row corresponds to (batch_index, time_frame_index, agent_index)\n",
    "mask_indices = torch.tensor([[1, 3], [2, 2], [1, 1]])  # Example mask indices\n",
    "print(mask_indices[:,0])\n",
    "\n",
    "# Update the mask to False for agents to be filtered out\n",
    "mask[mask_indices[:, 0]] = False\n",
    "print(mask.shape)\n",
    "print(data[mask].shape)\n",
    "# Apply the mask along the `num_agent` dimension\n",
    "filtered_data = data[mask].reshape(-1, time_frame, attributes)  # Reshape to maintain structure"
   ]
  },
  {
   "cell_type": "code",
   "execution_count": 19,
   "id": "f0ea5969",
   "metadata": {},
   "outputs": [
    {
     "name": "stdout",
     "output_type": "stream",
     "text": [
      "torch.Size([4, 4, 8])\n"
     ]
    }
   ],
   "source": [
    "print(filtered_data.shape)"
   ]
  },
  {
   "cell_type": "code",
   "execution_count": 20,
   "id": "6b482fef",
   "metadata": {},
   "outputs": [
    {
     "name": "stdout",
     "output_type": "stream",
     "text": [
      "tensor([[[ 0.2818,  0.0515,  0.1822,  0.2732, -0.6128,  0.0080, -0.2544,\n",
      "           1.0446],\n",
      "         [-0.3375, -0.4980, -0.6375, -1.0652, -0.0873, -0.1038, -0.5079,\n",
      "           0.0122],\n",
      "         [-0.0262, -0.0511,  0.4583, -0.5820,  0.3686,  1.6570,  0.1492,\n",
      "           0.9172],\n",
      "         [-0.0440, -1.1786,  0.0336,  0.6290,  1.8033, -0.4377,  1.1811,\n",
      "           0.0085]],\n",
      "\n",
      "        [[-0.7107, -0.2221, -2.0404, -0.2333, -1.0106, -0.7140, -1.0726,\n",
      "           0.0919],\n",
      "         [-1.7272, -1.2012,  0.0701,  1.7531,  0.7815,  0.9002,  0.4174,\n",
      "          -0.1821],\n",
      "         [ 1.8921, -0.1599,  0.5901, -1.0917, -2.0166,  0.5787,  0.3665,\n",
      "          -0.0412],\n",
      "         [ 0.0162, -0.8904,  0.2815,  1.4737,  0.3270, -0.1670,  0.0399,\n",
      "          -0.5112]],\n",
      "\n",
      "        [[ 0.1791, -0.3445,  1.9330,  0.2140,  1.9267, -0.2385, -0.6469,\n",
      "           0.0615],\n",
      "         [ 1.5100, -0.4589, -0.5386, -0.6384,  0.2739, -1.3766, -0.8195,\n",
      "           1.2362],\n",
      "         [-0.3095, -0.4454, -0.9137,  0.9998,  0.6851,  0.3212,  0.6061,\n",
      "          -1.9312],\n",
      "         [ 0.0545, -0.1725, -0.6052, -0.2606,  0.3540,  0.8104,  0.2088,\n",
      "           1.2856]],\n",
      "\n",
      "        [[ 1.5747, -0.2960,  0.4736, -1.4567,  0.4268, -0.0233,  0.6718,\n",
      "          -0.8725],\n",
      "         [-0.4801,  0.8368, -1.3065,  0.9219,  1.3431,  0.4575,  0.5764,\n",
      "          -1.7702],\n",
      "         [ 2.4335,  0.3968, -0.2304,  0.9427,  1.5273, -0.5563,  0.0323,\n",
      "           2.0987],\n",
      "         [ 0.3972,  0.0133,  1.2845, -0.2488, -0.4270, -1.8521,  1.3313,\n",
      "          -1.2706]],\n",
      "\n",
      "        [[ 0.4905,  0.4385, -0.2905, -1.5343,  0.3931,  0.9804, -0.9868,\n",
      "           0.5464],\n",
      "         [ 1.1006,  0.1590, -0.7542,  0.2978,  2.4357, -1.9707, -0.6703,\n",
      "          -0.7943],\n",
      "         [-3.4836, -0.2588, -0.8260, -0.6465, -1.4242, -0.3508, -0.4724,\n",
      "          -0.4230],\n",
      "         [ 0.2507, -0.8658,  0.1256,  1.0410,  0.4101,  1.5537,  0.2128,\n",
      "           0.1737]],\n",
      "\n",
      "        [[ 0.4819,  1.1931,  0.4295,  0.1794, -2.2007, -1.8459, -1.1444,\n",
      "           0.9730],\n",
      "         [ 1.2957, -0.0167,  0.6818, -1.0286, -0.3477,  0.7833, -0.2770,\n",
      "          -0.6966],\n",
      "         [-0.6802,  0.7098,  0.4888, -0.2197, -1.0178,  0.1533,  1.2555,\n",
      "          -1.4672],\n",
      "         [-1.6829, -1.6432, -1.1426,  0.4419,  0.2794, -1.4002, -0.6446,\n",
      "           1.0589]]])\n"
     ]
    }
   ],
   "source": [
    "print(data)"
   ]
  },
  {
   "cell_type": "code",
   "execution_count": 21,
   "id": "1b1083a9",
   "metadata": {},
   "outputs": [
    {
     "name": "stdout",
     "output_type": "stream",
     "text": [
      "tensor([[[ 0.2818,  0.0515,  0.1822,  0.2732, -0.6128,  0.0080, -0.2544,\n",
      "           1.0446],\n",
      "         [-0.3375, -0.4980, -0.6375, -1.0652, -0.0873, -0.1038, -0.5079,\n",
      "           0.0122],\n",
      "         [-0.0262, -0.0511,  0.4583, -0.5820,  0.3686,  1.6570,  0.1492,\n",
      "           0.9172],\n",
      "         [-0.0440, -1.1786,  0.0336,  0.6290,  1.8033, -0.4377,  1.1811,\n",
      "           0.0085]],\n",
      "\n",
      "        [[ 1.5747, -0.2960,  0.4736, -1.4567,  0.4268, -0.0233,  0.6718,\n",
      "          -0.8725],\n",
      "         [-0.4801,  0.8368, -1.3065,  0.9219,  1.3431,  0.4575,  0.5764,\n",
      "          -1.7702],\n",
      "         [ 2.4335,  0.3968, -0.2304,  0.9427,  1.5273, -0.5563,  0.0323,\n",
      "           2.0987],\n",
      "         [ 0.3972,  0.0133,  1.2845, -0.2488, -0.4270, -1.8521,  1.3313,\n",
      "          -1.2706]],\n",
      "\n",
      "        [[ 0.4905,  0.4385, -0.2905, -1.5343,  0.3931,  0.9804, -0.9868,\n",
      "           0.5464],\n",
      "         [ 1.1006,  0.1590, -0.7542,  0.2978,  2.4357, -1.9707, -0.6703,\n",
      "          -0.7943],\n",
      "         [-3.4836, -0.2588, -0.8260, -0.6465, -1.4242, -0.3508, -0.4724,\n",
      "          -0.4230],\n",
      "         [ 0.2507, -0.8658,  0.1256,  1.0410,  0.4101,  1.5537,  0.2128,\n",
      "           0.1737]],\n",
      "\n",
      "        [[ 0.4819,  1.1931,  0.4295,  0.1794, -2.2007, -1.8459, -1.1444,\n",
      "           0.9730],\n",
      "         [ 1.2957, -0.0167,  0.6818, -1.0286, -0.3477,  0.7833, -0.2770,\n",
      "          -0.6966],\n",
      "         [-0.6802,  0.7098,  0.4888, -0.2197, -1.0178,  0.1533,  1.2555,\n",
      "          -1.4672],\n",
      "         [-1.6829, -1.6432, -1.1426,  0.4419,  0.2794, -1.4002, -0.6446,\n",
      "           1.0589]]])\n"
     ]
    }
   ],
   "source": [
    "print(filtered_data)"
   ]
  },
  {
   "cell_type": "code",
   "execution_count": null,
   "id": "2c431f72",
   "metadata": {},
   "outputs": [],
   "source": []
  },
  {
   "cell_type": "code",
   "execution_count": null,
   "id": "38f331e8",
   "metadata": {},
   "outputs": [],
   "source": []
  }
 ],
 "metadata": {
  "kernelspec": {
   "display_name": "Python 3 (ipykernel)",
   "language": "python",
   "name": "python3"
  },
  "language_info": {
   "codemirror_mode": {
    "name": "ipython",
    "version": 3
   },
   "file_extension": ".py",
   "mimetype": "text/x-python",
   "name": "python",
   "nbconvert_exporter": "python",
   "pygments_lexer": "ipython3",
   "version": "3.8.18"
  }
 },
 "nbformat": 4,
 "nbformat_minor": 5
}
